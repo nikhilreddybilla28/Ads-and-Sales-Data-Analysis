{
  "nbformat": 4,
  "nbformat_minor": 0,
  "metadata": {
    "colab": {
      "name": "making_directories.ipynb",
      "provenance": [],
      "mount_file_id": "1gaWfat1Utz7BefJQdRxdOBgysuUJH7PS",
      "authorship_tag": "ABX9TyPtsg8OZIYGwTw2FNkzjzTv",
      "include_colab_link": true
    },
    "kernelspec": {
      "display_name": "Python 3",
      "name": "python3"
    }
  },
  "cells": [
    {
      "cell_type": "markdown",
      "metadata": {
        "id": "view-in-github",
        "colab_type": "text"
      },
      "source": [
        "<a href=\"https://colab.research.google.com/github/nikhilreddybilla28/Ads-and-Sales-Data-Analysis/blob/master/Nikil/making_directories.ipynb\" target=\"_parent\"><img src=\"https://colab.research.google.com/assets/colab-badge.svg\" alt=\"Open In Colab\"/></a>"
      ]
    },
    {
      "cell_type": "code",
      "metadata": {
        "id": "zP6-EkToT6Ji"
      },
      "source": [
        "import shutil\n",
        "import re\n",
        "import os\n",
        "\n",
        "from fastai.vision import *\n",
        "from fastai.metrics import error_rate"
      ],
      "execution_count": null,
      "outputs": []
    },
    {
      "cell_type": "code",
      "metadata": {
        "colab": {
          "base_uri": "https://localhost:8080/",
          "height": 35
        },
        "id": "qwp0HTmnUbJ3",
        "outputId": "91965eef-2d80-4e66-d432-857678e8f313"
      },
      "source": [
        "path = Path(\"/content/drive/MyDrive/Dataset for resizing factor estimation/Raise_DCR\")\n",
        "images= list(path.ls())\n",
        "str(images[20])"
      ],
      "execution_count": null,
      "outputs": [
        {
          "output_type": "execute_result",
          "data": {
            "application/vnd.google.colaboratory.intrinsic+json": {
              "type": "string"
            },
            "text/plain": [
              "'/content/drive/MyDrive/Dataset for resizing factor estimation/Raise_DCR/389Q1_60Q2_90Rf_0.6.jpg'"
            ]
          },
          "metadata": {
            "tags": []
          },
          "execution_count": 12
        }
      ]
    },
    {
      "cell_type": "code",
      "metadata": {
        "id": "wvqvL1K1Wobz"
      },
      "source": [
        "def last(s):\n",
        "  return s.split('_')[-1]"
      ],
      "execution_count": null,
      "outputs": []
    },
    {
      "cell_type": "code",
      "metadata": {
        "colab": {
          "base_uri": "https://localhost:8080/"
        },
        "id": "sba8DUVSZ1EW",
        "outputId": "54af50a2-b841-4658-a126-f8fb57874141"
      },
      "source": [
        "classes = [\"0.6.jpg\",\"0.7.jpg\",\"0.8.jpg\",\"0.9.jpg\",\"0.95.jpg\",\"1.05.jpg\",\"1.1.jpg\",\"1.2.jpg\",\"1.3.jpg\",\"1.4.jpg\"]\n",
        "for c in classes:\n",
        "    print(c)\n",
        "    folder = c\n",
        "\n",
        "    path = Path('/content/drive/MyDrive/Dataset for resizing factor estimation/Raise_DCR_C')\n",
        "    dest = path/folder\n",
        "    dest.mkdir(parents=True, exist_ok=True)\n",
        "    print(dest)"
      ],
      "execution_count": null,
      "outputs": [
        {
          "output_type": "stream",
          "text": [
            "0.6.jpg\n",
            "/content/drive/MyDrive/Dataset for resizing factor estimation/Raise_DCR_C/0.6.jpg\n",
            "0.7.jpg\n",
            "/content/drive/MyDrive/Dataset for resizing factor estimation/Raise_DCR_C/0.7.jpg\n",
            "0.8.jpg\n",
            "/content/drive/MyDrive/Dataset for resizing factor estimation/Raise_DCR_C/0.8.jpg\n",
            "0.9.jpg\n",
            "/content/drive/MyDrive/Dataset for resizing factor estimation/Raise_DCR_C/0.9.jpg\n",
            "0.95.jpg\n",
            "/content/drive/MyDrive/Dataset for resizing factor estimation/Raise_DCR_C/0.95.jpg\n",
            "1.05.jpg\n",
            "/content/drive/MyDrive/Dataset for resizing factor estimation/Raise_DCR_C/1.05.jpg\n",
            "1.1.jpg\n",
            "/content/drive/MyDrive/Dataset for resizing factor estimation/Raise_DCR_C/1.1.jpg\n",
            "1.2.jpg\n",
            "/content/drive/MyDrive/Dataset for resizing factor estimation/Raise_DCR_C/1.2.jpg\n",
            "1.3.jpg\n",
            "/content/drive/MyDrive/Dataset for resizing factor estimation/Raise_DCR_C/1.3.jpg\n",
            "1.4.jpg\n",
            "/content/drive/MyDrive/Dataset for resizing factor estimation/Raise_DCR_C/1.4.jpg\n"
          ],
          "name": "stdout"
        }
      ]
    },
    {
      "cell_type": "code",
      "metadata": {
        "colab": {
          "base_uri": "https://localhost:8080/",
          "height": 35
        },
        "id": "dI7vomaPXX8I",
        "outputId": "454881fa-59f5-4ef0-eb39-91960e460cc0"
      },
      "source": [
        "last(str(images[10]))"
      ],
      "execution_count": null,
      "outputs": [
        {
          "output_type": "execute_result",
          "data": {
            "application/vnd.google.colaboratory.intrinsic+json": {
              "type": "string"
            },
            "text/plain": [
              "'1.4.jpg'"
            ]
          },
          "metadata": {
            "tags": []
          },
          "execution_count": 19
        }
      ]
    },
    {
      "cell_type": "code",
      "metadata": {
        "colab": {
          "base_uri": "https://localhost:8080/",
          "height": 35
        },
        "id": "XR24QUu1cufb",
        "outputId": "e0a651ad-003a-4c1f-a244-25a6e7f009d5"
      },
      "source": [
        "#sample\n",
        "image_name=str(images[30])\n",
        "image_class = last(str(images[30]))\n",
        "folder_name = \"/content/drive/MyDrive/Dataset for resizing factor estimation/Raise_DCR_C/\"\n",
        "src_image_path = image_name\n",
        "dst_image_path = os.path.join(folder_name, image_class)\n",
        "shutil.copy(src_image_path, dst_image_path)"
      ],
      "execution_count": null,
      "outputs": [
        {
          "output_type": "execute_result",
          "data": {
            "application/vnd.google.colaboratory.intrinsic+json": {
              "type": "string"
            },
            "text/plain": [
              "'/content/drive/MyDrive/Dataset for resizing factor estimation/Raise_DCR_C/0.9.jpg/389Q1_80Q2_70Rf_0.9.jpg'"
            ]
          },
          "metadata": {
            "tags": []
          },
          "execution_count": 27
        }
      ]
    },
    {
      "cell_type": "code",
      "metadata": {
        "id": "3oq4O-s9Twla"
      },
      "source": [
        "import shutil\n",
        "import re\n",
        "import os\n",
        "\n",
        "classes = [\"0.6.jpg\",\"0.7.jpg\",\"0.8.jpg\",\"0.9.jpg\",\"0.95.jpg\",\"1.05.jpg\",\"1.1.jpg\",\"1.2.jpg\",\"1.3.jpg\",\"1.4.jpg\"]\n",
        "def build_images_folders(image_names: [str]):\n",
        "    for image_name in image_names:\n",
        "            image_class = last(str(image_name))\n",
        "            folder_name = \"/content/drive/MyDrive/Dataset for resizing factor estimation/Raise_DCR_C/\"\n",
        "            src_image_path = image_name\n",
        "            dst_image_path = os.path.join(folder_name, image_class)\n",
        "            shutil.copy(src_image_path, dst_image_path)\n"
      ],
      "execution_count": null,
      "outputs": []
    },
    {
      "cell_type": "code",
      "metadata": {
        "colab": {
          "background_save": true
        },
        "id": "IDcSFY8re3TY"
      },
      "source": [
        "#load images to folders\n",
        "build_images_folders(images)"
      ],
      "execution_count": null,
      "outputs": []
    },
    {
      "cell_type": "code",
      "metadata": {
        "id": "s0HmNFI0fq0E",
        "colab": {
          "base_uri": "https://localhost:8080/"
        },
        "outputId": "7b45fc93-8f92-4c68-81fe-6a2ca5546599"
      },
      "source": [
        "path=Path('/content/drive/MyDrive/Dataset for resizing factor estimation/Raise_DCR_C/1.4.jpg')\n",
        "len(list(path.ls()))"
      ],
      "execution_count": 49,
      "outputs": [
        {
          "output_type": "execute_result",
          "data": {
            "text/plain": [
              "1202"
            ]
          },
          "metadata": {
            "tags": []
          },
          "execution_count": 49
        }
      ]
    },
    {
      "cell_type": "code",
      "metadata": {
        "id": "J7-qQAmRP0VZ"
      },
      "source": [
        "from google.colab import drive\n",
        "drive.flush_and_unmount()"
      ],
      "execution_count": 50,
      "outputs": []
    }
  ]
}