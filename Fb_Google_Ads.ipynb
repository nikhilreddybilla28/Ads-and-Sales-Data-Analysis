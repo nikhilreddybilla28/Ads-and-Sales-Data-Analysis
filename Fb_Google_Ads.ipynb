{
  "nbformat": 4,
  "nbformat_minor": 0,
  "metadata": {
    "colab": {
      "name": "MS1.ipynb",
      "provenance": [],
      "collapsed_sections": [
        "cNFZN3hpx5k6"
      ]
    },
    "kernelspec": {
      "name": "python3",
      "display_name": "Python 3"
    }
  },
  "cells": [
    {
      "cell_type": "code",
      "metadata": {
        "id": "X_M56f-OvtPo",
        "colab_type": "code",
        "colab": {}
      },
      "source": [
        "import numpy as np\n",
        "import pandas as pd\n",
        "import matplotlib.pyplot as plt\n",
        "from matplotlib import colors\n",
        "from matplotlib.ticker import PercentFormatter\n",
        "import seaborn as sns;"
      ],
      "execution_count": 116,
      "outputs": []
    },
    {
      "cell_type": "code",
      "metadata": {
        "id": "gIMJjjocwDMe",
        "colab_type": "code",
        "colab": {
          "base_uri": "https://localhost:8080/",
          "height": 316
        },
        "outputId": "fb059b09-760a-4654-9f4b-19e36956f27f"
      },
      "source": [
        "df = pd.read_excel('MSdata.xlsx','Assignment-1')\n",
        "print(df.shape)\n",
        "df.head()"
      ],
      "execution_count": 9,
      "outputs": [
        {
          "output_type": "stream",
          "text": [
            "(16834, 16)\n"
          ],
          "name": "stdout"
        },
        {
          "output_type": "execute_result",
          "data": {
            "text/html": [
              "<div>\n",
              "<style scoped>\n",
              "    .dataframe tbody tr th:only-of-type {\n",
              "        vertical-align: middle;\n",
              "    }\n",
              "\n",
              "    .dataframe tbody tr th {\n",
              "        vertical-align: top;\n",
              "    }\n",
              "\n",
              "    .dataframe thead th {\n",
              "        text-align: right;\n",
              "    }\n",
              "</style>\n",
              "<table border=\"1\" class=\"dataframe\">\n",
              "  <thead>\n",
              "    <tr style=\"text-align: right;\">\n",
              "      <th></th>\n",
              "      <th>Date</th>\n",
              "      <th>product</th>\n",
              "      <th>phase</th>\n",
              "      <th>campaign_platform</th>\n",
              "      <th>campaign_type</th>\n",
              "      <th>communication_medium</th>\n",
              "      <th>subchannel</th>\n",
              "      <th>audience_type</th>\n",
              "      <th>creative_type</th>\n",
              "      <th>creative_name</th>\n",
              "      <th>device</th>\n",
              "      <th>age</th>\n",
              "      <th>spends</th>\n",
              "      <th>impressions</th>\n",
              "      <th>clicks</th>\n",
              "      <th>link_clicks</th>\n",
              "    </tr>\n",
              "  </thead>\n",
              "  <tbody>\n",
              "    <tr>\n",
              "      <th>0</th>\n",
              "      <td>2019-10-16</td>\n",
              "      <td>Product 1</td>\n",
              "      <td>Performance</td>\n",
              "      <td>Google Ads</td>\n",
              "      <td>Search</td>\n",
              "      <td>Search Keywords</td>\n",
              "      <td>Brand</td>\n",
              "      <td>'-</td>\n",
              "      <td>'-</td>\n",
              "      <td>'-</td>\n",
              "      <td>Desktop</td>\n",
              "      <td>18-24</td>\n",
              "      <td>0.00</td>\n",
              "      <td>2</td>\n",
              "      <td>0</td>\n",
              "      <td>0.0</td>\n",
              "    </tr>\n",
              "    <tr>\n",
              "      <th>1</th>\n",
              "      <td>2019-10-16</td>\n",
              "      <td>Product 1</td>\n",
              "      <td>Performance</td>\n",
              "      <td>Google Ads</td>\n",
              "      <td>Search</td>\n",
              "      <td>Search Keywords</td>\n",
              "      <td>Brand</td>\n",
              "      <td>'-</td>\n",
              "      <td>'-</td>\n",
              "      <td>'-</td>\n",
              "      <td>Desktop</td>\n",
              "      <td>25-34</td>\n",
              "      <td>0.00</td>\n",
              "      <td>5</td>\n",
              "      <td>0</td>\n",
              "      <td>0.0</td>\n",
              "    </tr>\n",
              "    <tr>\n",
              "      <th>2</th>\n",
              "      <td>2019-10-16</td>\n",
              "      <td>Product 1</td>\n",
              "      <td>Performance</td>\n",
              "      <td>Google Ads</td>\n",
              "      <td>Search</td>\n",
              "      <td>Search Keywords</td>\n",
              "      <td>Brand</td>\n",
              "      <td>'-</td>\n",
              "      <td>'-</td>\n",
              "      <td>'-</td>\n",
              "      <td>Desktop</td>\n",
              "      <td>35-44</td>\n",
              "      <td>0.00</td>\n",
              "      <td>1</td>\n",
              "      <td>0</td>\n",
              "      <td>0.0</td>\n",
              "    </tr>\n",
              "    <tr>\n",
              "      <th>3</th>\n",
              "      <td>2019-10-16</td>\n",
              "      <td>Product 1</td>\n",
              "      <td>Performance</td>\n",
              "      <td>Google Ads</td>\n",
              "      <td>Search</td>\n",
              "      <td>Search Keywords</td>\n",
              "      <td>Brand</td>\n",
              "      <td>'-</td>\n",
              "      <td>'-</td>\n",
              "      <td>'-</td>\n",
              "      <td>Desktop</td>\n",
              "      <td>Undetermined</td>\n",
              "      <td>14.63</td>\n",
              "      <td>5</td>\n",
              "      <td>3</td>\n",
              "      <td>0.0</td>\n",
              "    </tr>\n",
              "    <tr>\n",
              "      <th>4</th>\n",
              "      <td>2019-10-18</td>\n",
              "      <td>Product 1</td>\n",
              "      <td>Performance</td>\n",
              "      <td>Google Ads</td>\n",
              "      <td>Search</td>\n",
              "      <td>Search Keywords</td>\n",
              "      <td>Brand</td>\n",
              "      <td>'-</td>\n",
              "      <td>'-</td>\n",
              "      <td>'-</td>\n",
              "      <td>Desktop</td>\n",
              "      <td>18-24</td>\n",
              "      <td>53.31</td>\n",
              "      <td>10</td>\n",
              "      <td>2</td>\n",
              "      <td>0.0</td>\n",
              "    </tr>\n",
              "  </tbody>\n",
              "</table>\n",
              "</div>"
            ],
            "text/plain": [
              "        Date    product        phase  ... impressions clicks link_clicks\n",
              "0 2019-10-16  Product 1  Performance  ...           2      0         0.0\n",
              "1 2019-10-16  Product 1  Performance  ...           5      0         0.0\n",
              "2 2019-10-16  Product 1  Performance  ...           1      0         0.0\n",
              "3 2019-10-16  Product 1  Performance  ...           5      3         0.0\n",
              "4 2019-10-18  Product 1  Performance  ...          10      2         0.0\n",
              "\n",
              "[5 rows x 16 columns]"
            ]
          },
          "metadata": {
            "tags": []
          },
          "execution_count": 9
        }
      ]
    },
    {
      "cell_type": "code",
      "metadata": {
        "id": "BOU6dcWMxCKO",
        "colab_type": "code",
        "colab": {
          "base_uri": "https://localhost:8080/",
          "height": 426
        },
        "outputId": "81b8b63e-dc54-4db4-c793-04b83949852f"
      },
      "source": [
        "df.info()"
      ],
      "execution_count": 10,
      "outputs": [
        {
          "output_type": "stream",
          "text": [
            "<class 'pandas.core.frame.DataFrame'>\n",
            "RangeIndex: 16834 entries, 0 to 16833\n",
            "Data columns (total 16 columns):\n",
            " #   Column                Non-Null Count  Dtype         \n",
            "---  ------                --------------  -----         \n",
            " 0   Date                  16834 non-null  datetime64[ns]\n",
            " 1   product               16834 non-null  object        \n",
            " 2   phase                 16834 non-null  object        \n",
            " 3   campaign_platform     16834 non-null  object        \n",
            " 4   campaign_type         16834 non-null  object        \n",
            " 5   communication_medium  16834 non-null  object        \n",
            " 6   subchannel            16834 non-null  object        \n",
            " 7   audience_type         16834 non-null  object        \n",
            " 8   creative_type         16834 non-null  object        \n",
            " 9   creative_name         16834 non-null  object        \n",
            " 10  device                16834 non-null  object        \n",
            " 11  age                   16834 non-null  object        \n",
            " 12  spends                16834 non-null  float64       \n",
            " 13  impressions           16834 non-null  int64         \n",
            " 14  clicks                16834 non-null  int64         \n",
            " 15  link_clicks           16288 non-null  float64       \n",
            "dtypes: datetime64[ns](1), float64(2), int64(2), object(11)\n",
            "memory usage: 2.1+ MB\n"
          ],
          "name": "stdout"
        }
      ]
    },
    {
      "cell_type": "markdown",
      "metadata": {
        "id": "cNFZN3hpx5k6",
        "colab_type": "text"
      },
      "source": [
        ">  *>>missing values in link_clicks* "
      ]
    },
    {
      "cell_type": "code",
      "metadata": {
        "id": "RykTE7zkxwia",
        "colab_type": "code",
        "colab": {
          "base_uri": "https://localhost:8080/",
          "height": 282
        },
        "outputId": "1e36b893-cbcb-48ab-c14f-447236cca2c8"
      },
      "source": [
        "df.describe()"
      ],
      "execution_count": 11,
      "outputs": [
        {
          "output_type": "execute_result",
          "data": {
            "text/html": [
              "<div>\n",
              "<style scoped>\n",
              "    .dataframe tbody tr th:only-of-type {\n",
              "        vertical-align: middle;\n",
              "    }\n",
              "\n",
              "    .dataframe tbody tr th {\n",
              "        vertical-align: top;\n",
              "    }\n",
              "\n",
              "    .dataframe thead th {\n",
              "        text-align: right;\n",
              "    }\n",
              "</style>\n",
              "<table border=\"1\" class=\"dataframe\">\n",
              "  <thead>\n",
              "    <tr style=\"text-align: right;\">\n",
              "      <th></th>\n",
              "      <th>spends</th>\n",
              "      <th>impressions</th>\n",
              "      <th>clicks</th>\n",
              "      <th>link_clicks</th>\n",
              "    </tr>\n",
              "  </thead>\n",
              "  <tbody>\n",
              "    <tr>\n",
              "      <th>count</th>\n",
              "      <td>16834.000000</td>\n",
              "      <td>16834.000000</td>\n",
              "      <td>16834.000000</td>\n",
              "      <td>16288.000000</td>\n",
              "    </tr>\n",
              "    <tr>\n",
              "      <th>mean</th>\n",
              "      <td>148.694236</td>\n",
              "      <td>287.959190</td>\n",
              "      <td>11.977783</td>\n",
              "      <td>2.170371</td>\n",
              "    </tr>\n",
              "    <tr>\n",
              "      <th>std</th>\n",
              "      <td>483.895724</td>\n",
              "      <td>2444.450313</td>\n",
              "      <td>44.796963</td>\n",
              "      <td>18.659132</td>\n",
              "    </tr>\n",
              "    <tr>\n",
              "      <th>min</th>\n",
              "      <td>0.000000</td>\n",
              "      <td>0.000000</td>\n",
              "      <td>0.000000</td>\n",
              "      <td>0.000000</td>\n",
              "    </tr>\n",
              "    <tr>\n",
              "      <th>25%</th>\n",
              "      <td>0.180000</td>\n",
              "      <td>3.000000</td>\n",
              "      <td>0.000000</td>\n",
              "      <td>0.000000</td>\n",
              "    </tr>\n",
              "    <tr>\n",
              "      <th>50%</th>\n",
              "      <td>22.535000</td>\n",
              "      <td>13.000000</td>\n",
              "      <td>2.000000</td>\n",
              "      <td>0.000000</td>\n",
              "    </tr>\n",
              "    <tr>\n",
              "      <th>75%</th>\n",
              "      <td>110.020000</td>\n",
              "      <td>64.000000</td>\n",
              "      <td>8.000000</td>\n",
              "      <td>0.000000</td>\n",
              "    </tr>\n",
              "    <tr>\n",
              "      <th>max</th>\n",
              "      <td>9221.960000</td>\n",
              "      <td>67454.000000</td>\n",
              "      <td>1075.000000</td>\n",
              "      <td>450.000000</td>\n",
              "    </tr>\n",
              "  </tbody>\n",
              "</table>\n",
              "</div>"
            ],
            "text/plain": [
              "             spends   impressions        clicks   link_clicks\n",
              "count  16834.000000  16834.000000  16834.000000  16288.000000\n",
              "mean     148.694236    287.959190     11.977783      2.170371\n",
              "std      483.895724   2444.450313     44.796963     18.659132\n",
              "min        0.000000      0.000000      0.000000      0.000000\n",
              "25%        0.180000      3.000000      0.000000      0.000000\n",
              "50%       22.535000     13.000000      2.000000      0.000000\n",
              "75%      110.020000     64.000000      8.000000      0.000000\n",
              "max     9221.960000  67454.000000   1075.000000    450.000000"
            ]
          },
          "metadata": {
            "tags": []
          },
          "execution_count": 11
        }
      ]
    },
    {
      "cell_type": "markdown",
      "metadata": {
        "id": "LSk4E_MC4DXm",
        "colab_type": "text"
      },
      "source": [
        ">*the data given is of a specific product and phase (product1)*\n",
        "\n",
        ">*so product and phase  attribute dosent paly a role in modelling*"
      ]
    },
    {
      "cell_type": "code",
      "metadata": {
        "id": "PjbH3OVe4-V9",
        "colab_type": "code",
        "colab": {
          "base_uri": "https://localhost:8080/",
          "height": 1000
        },
        "outputId": "198437c3-eccb-4441-ab6e-9b3e79891cda"
      },
      "source": [
        "cat_cols=['product',\t'phase',\t'campaign_platform',\t'campaign_type',\t'communication_medium',\n",
        "      'subchannel',\t'audience_type',\t'creative_type',\t'creative_name',\t'device',\t'age'\t]\n",
        "#plt.figure(figsize=(10,8))\n",
        "for cols in cat_cols:\n",
        "  plt.figure()\n",
        "  print(df[cols].value_counts())\n",
        "  sns.countplot(x = cols, data = df)\n",
        "  #df[cols].value_counts().plot(kind='bar')\n",
        "  #df[cols].value_counts()\n",
        "  plt.show()\n"
      ],
      "execution_count": 106,
      "outputs": [
        {
          "output_type": "stream",
          "text": [
            "Product 1    16834\n",
            "Name: product, dtype: int64\n"
          ],
          "name": "stdout"
        },
        {
          "output_type": "display_data",
          "data": {
            "image/png": "[encoded data removed]",
            "text/plain": [
              "<Figure size 432x288 with 1 Axes>"
            ]
          },
          "metadata": {
            "tags": [],
            "needs_background": "light"
          }
        },
        {
          "output_type": "stream",
          "text": [
            "Performance    16834\n",
            "Name: phase, dtype: int64\n"
          ],
          "name": "stdout"
        },
        {
          "output_type": "display_data",
          "data": {
            "image/png": "[encoded data removed]",
            "text/plain": [
              "<Figure size 432x288 with 1 Axes>"
            ]
          },
          "metadata": {
            "tags": [],
            "needs_background": "light"
          }
        },
        {
          "output_type": "stream",
          "text": [
            "Google Ads      15101\n",
            "Facebook Ads     1733\n",
            "Name: campaign_platform, dtype: int64\n"
          ],
          "name": "stdout"
        },
        {
          "output_type": "display_data",
          "data": {
            "image/png": "[encoded data removed]",
            "text/plain": [
              "<Figure size 432x288 with 1 Axes>"
            ]
          },
          "metadata": {
            "tags": [],
            "needs_background": "light"
          }
        },
        {
          "output_type": "stream",
          "text": [
            "Search         15101\n",
            "Conversions     1733\n",
            "Name: campaign_type, dtype: int64\n"
          ],
          "name": "stdout"
        },
        {
          "output_type": "display_data",
          "data": {
            "image/png": "[encoded data removed]",
            "text/plain": [
              "<Figure size 432x288 with 1 Axes>"
            ]
          },
          "metadata": {
            "tags": [],
            "needs_background": "light"
          }
        },
        {
          "output_type": "stream",
          "text": [
            "Search Keywords    15101\n",
            "Creative            1733\n",
            "Name: communication_medium, dtype: int64\n"
          ],
          "name": "stdout"
        },
        {
          "output_type": "display_data",
          "data": {
            "image/png": "[encoded data removed]",
            "text/plain": [
              "<Figure size 432x288 with 1 Axes>"
            ]
          },
          "metadata": {
            "tags": [],
            "needs_background": "light"
          }
        },
        {
          "output_type": "stream",
          "text": [
            "Brand           7853\n",
            "Generic         4544\n",
            "Competitor      2704\n",
            "Facebook Ads    1733\n",
            "Name: subchannel, dtype: int64\n"
          ],
          "name": "stdout"
        },
        {
          "output_type": "display_data",
          "data": {
            "image/png": "[encoded data removed]",
            "text/plain": [
              "<Figure size 432x288 with 1 Axes>"
            ]
          },
          "metadata": {
            "tags": [],
            "needs_background": "light"
          }
        },
        {
          "output_type": "stream",
          "text": [
            "'-            15101\n",
            "Audience 1      813\n",
            "Audience 2      738\n",
            "Audience 3      182\n",
            "Name: audience_type, dtype: int64\n"
          ],
          "name": "stdout"
        },
        {
          "output_type": "display_data",
          "data": {
            "image/png": "[encoded data removed]",
            "text/plain": [
              "<Figure size 432x288 with 1 Axes>"
            ]
          },
          "metadata": {
            "tags": [],
            "needs_background": "light"
          }
        },
        {
          "output_type": "stream",
          "text": [
            "'-          15101\n",
            "Image        1130\n",
            "Carousal      603\n",
            "Name: creative_type, dtype: int64\n"
          ],
          "name": "stdout"
        },
        {
          "output_type": "display_data",
          "data": {
            "image/png": "[encoded data removed]",
            "text/plain": [
              "<Figure size 432x288 with 1 Axes>"
            ]
          },
          "metadata": {
            "tags": [],
            "needs_background": "light"
          }
        },
        {
          "output_type": "stream",
          "text": [
            "'-          15101\n",
            "Click         644\n",
            "Carousal      603\n",
            "Girl          486\n",
            "Name: creative_name, dtype: int64\n"
          ],
          "name": "stdout"
        },
        {
          "output_type": "display_data",
          "data": {
            "image/png": "[encoded data removed]",
            "text/plain": [
              "<Figure size 432x288 with 1 Axes>"
            ]
          },
          "metadata": {
            "tags": [],
            "needs_background": "light"
          }
        },
        {
          "output_type": "stream",
          "text": [
            "Mobile     7357\n",
            "Desktop    6318\n",
            "device     1733\n",
            "Tablet     1426\n",
            "Name: device, dtype: int64\n"
          ],
          "name": "stdout"
        },
        {
          "output_type": "display_data",
          "data": {
            "image/png": "[encoded data removed]",
            "text/plain": [
              "<Figure size 432x288 with 1 Axes>"
            ]
          },
          "metadata": {
            "tags": [],
            "needs_background": "light"
          }
        },
        {
          "output_type": "stream",
          "text": [
            "25-34           3097\n",
            "35-44           2865\n",
            "Undetermined    2586\n",
            "45-54           2499\n",
            "18-24           2472\n",
            "55-64           1757\n",
            "65 or more      1558\n",
            "Name: age, dtype: int64\n"
          ],
          "name": "stdout"
        },
        {
          "output_type": "display_data",
          "data": {
            "image/png": "[encoded data removed]",
            "text/plain": [
              "<Figure size 432x288 with 1 Axes>"
            ]
          },
          "metadata": {
            "tags": [],
            "needs_background": "light"
          }
        }
      ]
    },
    {
      "cell_type": "code",
      "metadata": {
        "id": "Hec0fxNzYkt0",
        "colab_type": "code",
        "colab": {
          "base_uri": "https://localhost:8080/",
          "height": 428
        },
        "outputId": "7ae77315-9fc1-4d98-c191-b025071c01d3"
      },
      "source": [
        "pf = df['campaign_platform'].value_counts()\n",
        "\n",
        "plt.figure(figsize = (7, 7))\n",
        "plt.pie(pf.values, labels = pf.index)\n",
        "plt.legend( loc = 'right', labels=['%s, %1.1f %%' % (l, s) for l, s in zip(labels, pf.values/168.34)])\n",
        "plt.show()\n",
        "plt.savefig(\"pf.png\")"
      ],
      "execution_count": 171,
      "outputs": [
        {
          "output_type": "display_data",
          "data": {
            "image/png": "[encoded data removed]",
            "text/plain": [
              "<Figure size 504x504 with 1 Axes>"
            ]
          },
          "metadata": {
            "tags": []
          }
        },
        {
          "output_type": "display_data",
          "data": {
            "text/plain": [
              "<Figure size 432x288 with 0 Axes>"
            ]
          },
          "metadata": {
            "tags": []
          }
        }
      ]
    },
    {
      "cell_type": "markdown",
      "metadata": {
        "id": "zLoTL2RS7cPg",
        "colab_type": "text"
      },
      "source": [
        ">Given data is about a specific product and phase (product1)so product and phase  attribute dosent paly a role in modelling\n",
        ">\n",
        "\n"
      ]
    },
    {
      "cell_type": "code",
      "metadata": {
        "id": "phCVdyI56MEw",
        "colab_type": "code",
        "colab": {
          "base_uri": "https://localhost:8080/",
          "height": 426
        },
        "outputId": "9980c27d-152f-4b68-e02a-7b5ccf66a24a"
      },
      "source": [
        "print(df['campaign_type'].value_counts())   \n",
        "print(' ')                                     #value counts of campaign type\n",
        "print('>>campaign_type')\n",
        "print(df[df.campaign_platform =='Google Ads']['campaign_type'].value_counts())  #value counts of campaign type with google_ads as platform\n",
        "print(df[df.campaign_platform =='Facebook Ads']['campaign_type'].value_counts()) #value counts of campaign type with fb_ads as platform\n",
        "print(' ')\n",
        "\n",
        "print('>>communication_medium')\n",
        "print(df[df.campaign_platform =='Google Ads']['communication_medium'].value_counts())  #value counts of communication medium with google_ads as platform\n",
        "print(df[df.campaign_platform =='Facebook Ads']['communication_medium'].value_counts())      #value counts of communication medium with fb_ads as platform\n",
        "print(' ')\n",
        "\n",
        "print('>>subchannel')\n",
        "print(df[df.campaign_platform =='Google Ads']['subchannel'].value_counts())  #value counts of subchannel with google_ads as platform\n",
        "print(df[df.campaign_platform =='Facebook Ads']['subchannel'].value_counts()) #value counts of subchannel with fb_ads as platform\n"
      ],
      "execution_count": 49,
      "outputs": [
        {
          "output_type": "stream",
          "text": [
            "Search         15101\n",
            "Conversions     1733\n",
            "Name: campaign_type, dtype: int64\n",
            " \n",
            ">>campaign_type\n",
            "Search    15101\n",
            "Name: campaign_type, dtype: int64\n",
            "Conversions    1733\n",
            "Name: campaign_type, dtype: int64\n",
            " \n",
            ">>communication_medium\n",
            "Search Keywords    15101\n",
            "Name: communication_medium, dtype: int64\n",
            "Creative    1733\n",
            "Name: communication_medium, dtype: int64\n",
            " \n",
            ">>subchannel\n",
            "Brand         7853\n",
            "Generic       4544\n",
            "Competitor    2704\n",
            "Name: subchannel, dtype: int64\n",
            "Facebook Ads    1733\n",
            "Name: subchannel, dtype: int64\n"
          ],
          "name": "stdout"
        }
      ]
    },
    {
      "cell_type": "markdown",
      "metadata": {
        "id": "aEy1ZhMcA_OZ",
        "colab_type": "text"
      },
      "source": [
        ">We see that when campaign_platform is **Google Ads** ,campaign type is **Search** and communication_medium is **Search Keywords** \n",
        "\n",
        ">when campaign_platform is  **Facebook Ads**, campaign type is  **Conversions** and communication_medium is **Creative**\n",
        "\n",
        ">*Brand*, *Generic* and *Competetior* (subcategories) corresponds to **Google Ads**\n",
        "\n",
        ">> **conclusion**: campaign_platform, campaign_type and subcategory are fully corelated (coef=1)"
      ]
    },
    {
      "cell_type": "code",
      "metadata": {
        "id": "QegsIV5--8Ox",
        "colab_type": "code",
        "colab": {
          "base_uri": "https://localhost:8080/",
          "height": 426
        },
        "outputId": "f7da2ead-c8c1-4244-ab3e-ea243f8d38b8"
      },
      "source": [
        "print('>>creative_name')\n",
        "print(df[df.campaign_platform =='Google Ads']['creative_name'].value_counts())  #value counts of creative_name with google_ads as platform\n",
        "print(df[df.campaign_platform =='Facebook Ads']['creative_name'].value_counts()) #value counts ofcreative_name with fb_ads as platform\n",
        "print(' ')\n",
        "\n",
        "print('>>creative_type')\n",
        "print(df[df.campaign_platform =='Google Ads']['creative_type'].value_counts())  #value counts of creative_name with google_ads as platform\n",
        "print(df[df.campaign_platform =='Facebook Ads']['creative_type'].value_counts()) #value counts ofcreative_name with fb_ads as platform\n",
        "print(' ')\n",
        "\n",
        "print('>>device')\n",
        "print(df[df.campaign_platform =='Google Ads']['device'].value_counts())  #value counts of device with google_ads as platform\n",
        "print(' ')\n",
        "print(df[df.campaign_platform =='Facebook Ads']['device'].value_counts()) #value counts of device with fb_ads as platform\n"
      ],
      "execution_count": 97,
      "outputs": [
        {
          "output_type": "stream",
          "text": [
            ">>creative_name\n",
            "'-    15101\n",
            "Name: creative_name, dtype: int64\n",
            "Click       644\n",
            "Carousal    603\n",
            "Girl        486\n",
            "Name: creative_name, dtype: int64\n",
            " \n",
            ">>creative_type\n",
            "'-    15101\n",
            "Name: creative_type, dtype: int64\n",
            "Image       1130\n",
            "Carousal     603\n",
            "Name: creative_type, dtype: int64\n",
            " \n",
            ">>device\n",
            "Mobile     7357\n",
            "Desktop    6318\n",
            "Tablet     1426\n",
            "Name: device, dtype: int64\n",
            " \n",
            "device    1733\n",
            "Name: device, dtype: int64\n"
          ],
          "name": "stdout"
        }
      ]
    },
    {
      "cell_type": "markdown",
      "metadata": {
        "id": "x7Mfv1N-Lz5f",
        "colab_type": "text"
      },
      "source": [
        "> creative type **'_** corresponds to **Google Ads** , **Carousal**  and  **image** corresponds to **Facebook Ads** \n",
        "\n",
        ">creative name **click and girl**  corresponds to **image** careative type of **Facebook Ads** \n",
        "\n",
        ">**Google** is specifying the device as **Mobile / Desktop / Tablet** where as Facebook returns **device** as device type"
      ]
    },
    {
      "cell_type": "code",
      "metadata": {
        "id": "XE-iA0zOKz13",
        "colab_type": "code",
        "colab": {
          "base_uri": "https://localhost:8080/",
          "height": 461
        },
        "outputId": "3b790002-3111-4809-a449-4817531d78bf"
      },
      "source": [
        "print(df['age'].value_counts())\n",
        "print(' ')\n",
        "print('>>Google')\n",
        "print(df[df.campaign_platform =='Google Ads']['age'].value_counts())  #value counts of creative_name with google_ads as platform\n",
        "print(' ')\n",
        "print('>>Facebook')\n",
        "print(df[df.campaign_platform =='Facebook Ads']['age'].value_counts()) #value counts ofcreative_name with fb_ads as platform\n"
      ],
      "execution_count": 66,
      "outputs": [
        {
          "output_type": "stream",
          "text": [
            "25-34           3097\n",
            "35-44           2865\n",
            "Undetermined    2586\n",
            "45-54           2499\n",
            "18-24           2472\n",
            "55-64           1757\n",
            "65 or more      1558\n",
            "Name: age, dtype: int64\n",
            " \n",
            ">>Google\n",
            "25-34           2609\n",
            "Undetermined    2586\n",
            "18-24           2472\n",
            "35-44           2380\n",
            "45-54           2022\n",
            "65 or more      1558\n",
            "55-64           1474\n",
            "Name: age, dtype: int64\n",
            " \n",
            ">>Facebook\n",
            "25-34    488\n",
            "35-44    485\n",
            "45-54    477\n",
            "55-64    283\n",
            "Name: age, dtype: int64\n"
          ],
          "name": "stdout"
        }
      ]
    },
    {
      "cell_type": "code",
      "metadata": {
        "id": "DoOyF2uHUJA8",
        "colab_type": "code",
        "colab": {
          "base_uri": "https://localhost:8080/",
          "height": 106
        },
        "outputId": "a28b8f93-3896-45f3-b9b1-4dc7db01e067"
      },
      "source": [
        "# avg visitors per b/w unit age_grp\n",
        "print('18-24 :',2472/(24-18))\n",
        "print('25-34 :',2609/(34-25))\n",
        "print('35-44 :' ,2380/(44-35))\n",
        "print('45-54 :',2022/(54-45))\n",
        "print('55-64 :',1474/(64-55))"
      ],
      "execution_count": 67,
      "outputs": [
        {
          "output_type": "stream",
          "text": [
            "18-24 : 412.0\n",
            "25-34 : 289.8888888888889\n",
            "35-44 : 264.44444444444446\n",
            "45-54 : 224.66666666666666\n",
            "55-64 : 163.77777777777777\n"
          ],
          "name": "stdout"
        }
      ]
    },
    {
      "cell_type": "code",
      "metadata": {
        "id": "myDAlU-0zpLQ",
        "colab_type": "code",
        "colab": {
          "base_uri": "https://localhost:8080/",
          "height": 35
        },
        "outputId": "2402594a-e55c-4f00-85ec-13f7485b5e03"
      },
      "source": [
        ""
      ],
      "execution_count": 174,
      "outputs": [
        {
          "output_type": "execute_result",
          "data": {
            "text/plain": [
              "array([3097, 2865, 2586, 2499, 2472, 1757, 1558])"
            ]
          },
          "metadata": {
            "tags": []
          },
          "execution_count": 174
        }
      ]
    },
    {
      "cell_type": "code",
      "metadata": {
        "id": "ytK67LQViRp-",
        "colab_type": "code",
        "colab": {
          "base_uri": "https://localhost:8080/",
          "height": 428
        },
        "outputId": "e36df8c7-1181-477d-d066-72fe47bc306b"
      },
      "source": [
        "ag = df['age'].value_counts()\n",
        "plt.figure(figsize = (7,7 ))\n",
        "plt.pie(ag.values, labels = ag.index)\n",
        "plt.legend( loc = 'upper right', labels=['%s, %1.1f %%' % (l, s) for l, s in zip(ag.index, ag.values/168.34)])\n",
        "plt.show()\n",
        "plt.savefig(\"age.png\")"
      ],
      "execution_count": 194,
      "outputs": [
        {
          "output_type": "display_data",
          "data": {
            "image/png": "[encoded data removed]",
            "text/plain": [
              "<Figure size 504x504 with 1 Axes>"
            ]
          },
          "metadata": {
            "tags": []
          }
        },
        {
          "output_type": "display_data",
          "data": {
            "text/plain": [
              "<Figure size 432x288 with 0 Axes>"
            ]
          },
          "metadata": {
            "tags": []
          }
        }
      ]
    },
    {
      "cell_type": "markdown",
      "metadata": {
        "id": "8nYWbbE2NMxI",
        "colab_type": "text"
      },
      "source": [
        ">age group 18-24 are active visitors on google but they dont use facebook\n",
        "\n",
        ">age group 25-34 have highest number of visitors on Google and facebook(This is trageted age group)\n",
        "\n",
        ">age group 35-44 and 45-54 have good number of visitors on Google and facebook (can be a targeted age group)\n",
        "\n",
        ">facebook is giving age perfectly\n"
      ]
    },
    {
      "cell_type": "code",
      "metadata": {
        "id": "xyLinmZ9LIwT",
        "colab_type": "code",
        "colab": {}
      },
      "source": [
        "def encoding_time_spent_by_visitors(sec):\n",
        "  r=np.zeros(len(sec))\n",
        "  for i in range(len(sec)):\n",
        "    if sec[i] == 0.0:\n",
        "        r[i] = 0\n",
        "    elif 0 < sec[i] <= 15:\n",
        "        r[i]= 1\n",
        "    elif 15 < sec[i] <= 2*60:\n",
        "        r[i] = 2\n",
        "    elif 2*60 < sec[i] <= 5*60:\n",
        "        r[i] = 3\n",
        "    elif 5*60 < sec[i] <= 10*60:\n",
        "        r[i] = 4\n",
        "    elif 10*60 < sec[i] <= 30*60:\n",
        "        r[i] = 5\n",
        "    elif 30*60 < sec[i] <= 60*60:\n",
        "        r[i] =  6\n",
        "    elif 60*60 < sec[i] <= 120*60:\n",
        "        r[i] =  7\n",
        "    else:\n",
        "        r[i] = 8\n",
        "  return r  "
      ],
      "execution_count": 92,
      "outputs": []
    },
    {
      "cell_type": "code",
      "metadata": {
        "id": "CWNMbI3fPohb",
        "colab_type": "code",
        "colab": {}
      },
      "source": [
        "df['time_spent_grp'] = encoding_time_spent_by_visitors(df['spends'].values)"
      ],
      "execution_count": 93,
      "outputs": []
    },
    {
      "cell_type": "code",
      "metadata": {
        "id": "qDe30-Vvdhh-",
        "colab_type": "code",
        "colab": {
          "base_uri": "https://localhost:8080/",
          "height": 585
        },
        "outputId": "6e43f43b-1aa6-4ea0-ce36-0a1b3fe55bb2"
      },
      "source": [
        "print(df['time_spent_grp'].value_counts())\n",
        "plt.figure(figsize=(14,6))\n",
        "sns.countplot( df['time_spent_grp'])"
      ],
      "execution_count": 110,
      "outputs": [
        {
          "output_type": "stream",
          "text": [
            "2.0    5393\n",
            "0.0    4104\n",
            "1.0    3354\n",
            "3.0    1979\n",
            "4.0    1132\n",
            "5.0     668\n",
            "6.0     133\n",
            "7.0      53\n",
            "8.0      18\n",
            "Name: time_spent_grp, dtype: int64\n"
          ],
          "name": "stdout"
        },
        {
          "output_type": "execute_result",
          "data": {
            "text/plain": [
              "<matplotlib.axes._subplots.AxesSubplot at 0x7fc4f0088f60>"
            ]
          },
          "metadata": {
            "tags": []
          },
          "execution_count": 110
        },
        {
          "output_type": "display_data",
          "data": {
            "image/png": "[encoded data removed]",
            "text/plain": [
              "<Figure size 1008x432 with 1 Axes>"
            ]
          },
          "metadata": {
            "tags": [],
            "needs_background": "light"
          }
        }
      ]
    },
    {
      "cell_type": "code",
      "metadata": {
        "id": "fW4NmELKdvqh",
        "colab_type": "code",
        "colab": {
          "base_uri": "https://localhost:8080/",
          "height": 428
        },
        "outputId": "dcc075c7-e083-4e6e-caa5-1d408c6dc0af"
      },
      "source": [
        "times = df['time_spent_grp'].value_counts()\n",
        "plt.figure(figsize = (7, 7))\n",
        "plt.pie(times.values, labels = times.index)\n",
        "plt.legend( loc = 'upper right', labels=['%s, %1.1f %%' % (l, s) for l, s in zip(times.index, times.values/168.34)])\n",
        "plt.show()\n",
        "plt.savefig(\"spent-cat.png\")"
      ],
      "execution_count": 197,
      "outputs": [
        {
          "output_type": "display_data",
          "data": {
            "image/png": "[encoded data removed]",
            "text/plain": [
              "<Figure size 504x504 with 1 Axes>"
            ]
          },
          "metadata": {
            "tags": []
          }
        },
        {
          "output_type": "display_data",
          "data": {
            "text/plain": [
              "<Figure size 432x288 with 0 Axes>"
            ]
          },
          "metadata": {
            "tags": []
          }
        }
      ]
    },
    {
      "cell_type": "code",
      "metadata": {
        "id": "tY6rGuSYpCMc",
        "colab_type": "code",
        "colab": {
          "base_uri": "https://localhost:8080/",
          "height": 424
        },
        "outputId": "03bdc7cb-4e61-472c-aa04-53f7b828b56b"
      },
      "source": [
        "print('users with impression less than  : ',df[df.impressions <=50]['impressions'].value_counts().sum())\n",
        "plt.figure(figsize=(14,6))\n",
        "sns.countplot(df[df.impressions <=50]['impressions'])"
      ],
      "execution_count": 136,
      "outputs": [
        {
          "output_type": "stream",
          "text": [
            "users with impression less than  :  12124\n"
          ],
          "name": "stdout"
        },
        {
          "output_type": "execute_result",
          "data": {
            "text/plain": [
              "<matplotlib.axes._subplots.AxesSubplot at 0x7fc4df5fc908>"
            ]
          },
          "metadata": {
            "tags": []
          },
          "execution_count": 136
        },
        {
          "output_type": "display_data",
          "data": {
            "image/png": "[encoded data removed]",
            "text/plain": [
              "<Figure size 1008x432 with 1 Axes>"
            ]
          },
          "metadata": {
            "tags": [],
            "needs_background": "light"
          }
        }
      ]
    },
    {
      "cell_type": "code",
      "metadata": {
        "id": "8PRr4sxBo0ZG",
        "colab_type": "code",
        "colab": {}
      },
      "source": [
        "def encoding_impression(imp):\n",
        "  r=np.zeros(len(imp))\n",
        "  for i in range(len(imp)):\n",
        "    if imp[i] <=3:\n",
        "        r[i] = 0\n",
        "    elif 3 < imp[i] <= 6:\n",
        "        r[i]= 1\n",
        "    elif 6 < imp[i] <= 12:\n",
        "        r[i] = 2\n",
        "    elif 12 <  imp[i] <= 25:\n",
        "        r[i] = 3\n",
        "    elif 25 < imp[i] <= 60:\n",
        "        r[i] = 4\n",
        "    elif  60 < imp[i] <= 125 :\n",
        "        r[i] = 5\n",
        "    else:\n",
        "        r[i] = 6\n",
        "  return r  "
      ],
      "execution_count": 149,
      "outputs": []
    },
    {
      "cell_type": "code",
      "metadata": {
        "id": "ktzc_rC-lxo9",
        "colab_type": "code",
        "colab": {}
      },
      "source": [
        "df['impressions_enc'] = encoding_impression(df['impressions'].values)"
      ],
      "execution_count": 150,
      "outputs": []
    },
    {
      "cell_type": "code",
      "metadata": {
        "id": "cykCb4Oxq08a",
        "colab_type": "code",
        "colab": {
          "base_uri": "https://localhost:8080/",
          "height": 567
        },
        "outputId": "9ec940c2-dd8b-4f6a-f874-46ccfb4df3b0"
      },
      "source": [
        "print(df['impressions_enc'].value_counts())\n",
        "plt.figure(figsize=(14,6))\n",
        "sns.countplot( df['impressions_enc'])"
      ],
      "execution_count": 151,
      "outputs": [
        {
          "output_type": "stream",
          "text": [
            "0.0    4291\n",
            "2.0    2186\n",
            "4.0    2116\n",
            "3.0    2034\n",
            "1.0    1881\n",
            "7.0    1543\n",
            "5.0    1493\n",
            "6.0    1290\n",
            "Name: impressions_enc, dtype: int64\n"
          ],
          "name": "stdout"
        },
        {
          "output_type": "execute_result",
          "data": {
            "text/plain": [
              "<matplotlib.axes._subplots.AxesSubplot at 0x7fc4df48d710>"
            ]
          },
          "metadata": {
            "tags": []
          },
          "execution_count": 151
        },
        {
          "output_type": "display_data",
          "data": {
            "image/png": "[encoded data removed]",
            "text/plain": [
              "<Figure size 1008x432 with 1 Axes>"
            ]
          },
          "metadata": {
            "tags": [],
            "needs_background": "light"
          }
        }
      ]
    },
    {
      "cell_type": "code",
      "metadata": {
        "id": "g7510t7qrJlf",
        "colab_type": "code",
        "colab": {
          "base_uri": "https://localhost:8080/",
          "height": 424
        },
        "outputId": "b7f417a6-ecff-4d1d-fcd9-793418a8bfbc"
      },
      "source": [
        "print('users with impression less than  : ',df[df.clicks <=60]['clicks'].value_counts().sum())\n",
        "plt.figure(figsize=(14,6))\n",
        "sns.countplot(df[df.clicks <=50]['clicks'])"
      ],
      "execution_count": 156,
      "outputs": [
        {
          "output_type": "stream",
          "text": [
            "users with impression less than  :  16240\n"
          ],
          "name": "stdout"
        },
        {
          "output_type": "execute_result",
          "data": {
            "text/plain": [
              "<matplotlib.axes._subplots.AxesSubplot at 0x7fc4de4a0400>"
            ]
          },
          "metadata": {
            "tags": []
          },
          "execution_count": 156
        },
        {
          "output_type": "display_data",
          "data": {
            "image/png": "[encoded data removed]",
            "text/plain": [
              "<Figure size 1008x432 with 1 Axes>"
            ]
          },
          "metadata": {
            "tags": [],
            "needs_background": "light"
          }
        }
      ]
    },
    {
      "cell_type": "markdown",
      "metadata": {
        "id": "S5-kSfn2sSAi",
        "colab_type": "text"
      },
      "source": [
        "**16240/16834  visitors had clicked lessthan tham 60 times**"
      ]
    },
    {
      "cell_type": "code",
      "metadata": {
        "id": "g3V2aYb0rwBx",
        "colab_type": "code",
        "colab": {}
      },
      "source": [
        "def encoding_clicks(imp):\n",
        "  r=np.zeros(len(imp))\n",
        "  for i in range(len(imp)):\n",
        "    if imp[i] <=3:\n",
        "        r[i] = 0\n",
        "    elif 3 < imp[i] <= 7:\n",
        "        r[i]= 1\n",
        "    elif 6 < imp[i] <= 14:\n",
        "        r[i] = 2\n",
        "    elif 14 <  imp[i] <= 25:\n",
        "        r[i] = 3\n",
        "    elif 25 < imp[i] <= 50:\n",
        "        r[i] = 4\n",
        "    else:\n",
        "        r[i] = 5\n",
        "  return r "
      ],
      "execution_count": 161,
      "outputs": []
    },
    {
      "cell_type": "code",
      "metadata": {
        "id": "ikTHBWCrtitL",
        "colab_type": "code",
        "colab": {}
      },
      "source": [
        "df['clicks_enc'] = encoding_clicks(df['clicks'].values)"
      ],
      "execution_count": 159,
      "outputs": []
    },
    {
      "cell_type": "code",
      "metadata": {
        "id": "qFjUenvVtpTb",
        "colab_type": "code",
        "colab": {
          "base_uri": "https://localhost:8080/",
          "height": 532
        },
        "outputId": "f02e7907-6ebc-4a9b-873c-7ebd915e0b5e"
      },
      "source": [
        "print(df['clicks_enc'].value_counts())\n",
        "plt.figure(figsize=(14,6))\n",
        "sns.countplot( df['clicks_enc'])"
      ],
      "execution_count": 162,
      "outputs": [
        {
          "output_type": "stream",
          "text": [
            "0.0    10075\n",
            "1.0     2301\n",
            "3.0     1354\n",
            "2.0     1261\n",
            "4.0     1042\n",
            "5.0      801\n",
            "Name: clicks_enc, dtype: int64\n"
          ],
          "name": "stdout"
        },
        {
          "output_type": "execute_result",
          "data": {
            "text/plain": [
              "<matplotlib.axes._subplots.AxesSubplot at 0x7fc4de1dad68>"
            ]
          },
          "metadata": {
            "tags": []
          },
          "execution_count": 162
        },
        {
          "output_type": "display_data",
          "data": {
            "image/png": "[encoded data removed]",
            "text/plain": [
              "<Figure size 1008x432 with 1 Axes>"
            ]
          },
          "metadata": {
            "tags": [],
            "needs_background": "light"
          }
        }
      ]
    },
    {
      "cell_type": "code",
      "metadata": {
        "id": "reEGTImyt1iG",
        "colab_type": "code",
        "colab": {}
      },
      "source": [
        ""
      ],
      "execution_count": null,
      "outputs": []
    },
    {
      "cell_type": "code",
      "metadata": {
        "id": "AOgxVNtmuPjF",
        "colab_type": "code",
        "colab": {
          "base_uri": "https://localhost:8080/",
          "height": 319
        },
        "outputId": "113f4190-864c-4743-b95b-093cff7199a9"
      },
      "source": [
        "print('>>Google')\n",
        "print(df[df.campaign_platform =='Google Ads']['link_clicks'].value_counts())  #value counts of creative_name with google_ads as platform\n",
        "print(' ')\n",
        "print('>>Facebook')\n",
        "print(df[df.campaign_platform =='Facebook Ads']['link_clicks'].value_counts()) "
      ],
      "execution_count": 198,
      "outputs": [
        {
          "output_type": "stream",
          "text": [
            ">>Google\n",
            "0.0    15101\n",
            "Name: link_clicks, dtype: int64\n",
            " \n",
            ">>Facebook\n",
            "1.0      233\n",
            "2.0      104\n",
            "3.0       87\n",
            "4.0       64\n",
            "5.0       47\n",
            "        ... \n",
            "135.0      1\n",
            "149.0      1\n",
            "98.0       1\n",
            "57.0       1\n",
            "299.0      1\n",
            "Name: link_clicks, Length: 159, dtype: int64\n"
          ],
          "name": "stdout"
        }
      ]
    },
    {
      "cell_type": "code",
      "metadata": {
        "id": "ou9zm1qZvuSx",
        "colab_type": "code",
        "colab": {
          "base_uri": "https://localhost:8080/",
          "height": 478
        },
        "outputId": "593b4344-46d1-4f71-fd36-cdfffa1b0a91"
      },
      "source": [
        "print('users with link_clicks less than  : ',df[df.campaign_platform =='Facebook Ads'][df.clicks <=5]['link_clicks'].value_counts().sum());\n",
        "plt.figure(figsize=(14,6));\n",
        "sns.countplot(df[df.campaign_platform =='Facebook Ads'][df.clicks <=50]['link_clicks']);"
      ],
      "execution_count": 207,
      "outputs": [
        {
          "output_type": "stream",
          "text": [
            "/usr/local/lib/python3.6/dist-packages/ipykernel_launcher.py:1: UserWarning: Boolean Series key will be reindexed to match DataFrame index.\n",
            "  \"\"\"Entry point for launching an IPython kernel.\n",
            "/usr/local/lib/python3.6/dist-packages/ipykernel_launcher.py:3: UserWarning: Boolean Series key will be reindexed to match DataFrame index.\n",
            "  This is separate from the ipykernel package so we can avoid doing imports until\n"
          ],
          "name": "stderr"
        },
        {
          "output_type": "stream",
          "text": [
            "users with link_clicks less than  :  382\n"
          ],
          "name": "stdout"
        },
        {
          "output_type": "display_data",
          "data": {
            "image/png": "[encoded data removed]",
            "text/plain": [
              "<Figure size 1008x432 with 1 Axes>"
            ]
          },
          "metadata": {
            "tags": [],
            "needs_background": "light"
          }
        }
      ]
    },
    {
      "cell_type": "code",
      "metadata": {
        "id": "HINS6M_O-mOv",
        "colab_type": "code",
        "colab": {
          "base_uri": "https://localhost:8080/",
          "height": 523
        },
        "outputId": "35b7f668-ac33-45ed-ac2c-b1ed1dff9d8d"
      },
      "source": [
        "hm=df.corr()\n",
        "plt.figure(figsize = (10,7))\n",
        "sns.heatmap(hm)"
      ],
      "execution_count": 212,
      "outputs": [
        {
          "output_type": "execute_result",
          "data": {
            "text/plain": [
              "<matplotlib.axes._subplots.AxesSubplot at 0x7fc4ddb8a400>"
            ]
          },
          "metadata": {
            "tags": []
          },
          "execution_count": 212
        },
        {
          "output_type": "display_data",
          "data": {
            "image/png": "[encoded data removed]",
            "text/plain": [
              "<Figure size 720x504 with 2 Axes>"
            ]
          },
          "metadata": {
            "tags": [],
            "needs_background": "light"
          }
        }
      ]
    },
    {
      "cell_type": "markdown",
      "metadata": {
        "id": "HC8W0gIi9Tl9",
        "colab_type": "text"
      },
      "source": [
        "# Summary"
      ]
    },
    {
      "cell_type": "markdown",
      "metadata": {
        "id": "aS93H_-WwGkO",
        "colab_type": "text"
      },
      "source": [
        "**Date** : \n",
        ">16th October 2019 -  7th July, 2020.\n",
        "\n",
        "**Product :** \n",
        ">The whole marketing campaign data is representing about Performance phase of the product.\n",
        "\n",
        "**campaign_platform :**\n",
        "> Getting more attraction from Google Ads.\n",
        ">>Percentage of Attraction from Google Ads : 15101 (89.7%)\n",
        "\n",
        ">>Percentage of Attraction from Facebook Ads : 1733 (10.3%)\n",
        "\n",
        "**Campaign_type & Communication_Medium:**\n",
        "\n",
        ">Both Campaign_type & Communication_Medium  represents similar feature as. Campaign Platform \n",
        ">>   Google Ads >> Search >> Search Keywords\n",
        "\n",
        ">>  Facebook Ads >> Conversions >> Creative\n",
        "\n",
        "\n",
        "**Subcannel :**\n",
        ">there are 3 Subchannels for Google Ads :-\n",
        " >>Brand 7853(52%)\n",
        " \n",
        " >>Generic 4544(30.1%) and  \n",
        "\n",
        " >>Competitor 2704(17.9%)\n",
        ">For Facebook Ads, There are no subchannels.\n",
        "\n",
        "\n",
        "**Audience Type:**\n",
        ">There are three kinds of Audience Type related to the Facebook Ads. \n",
        ">>Audience 1 : 813 \n",
        "\n",
        ">>Audience 2 : 738 \n",
        "\n",
        ">>Audience 3 : 182\n",
        "\n",
        "**Creative type and name :**\n",
        "facebook ads: \n",
        ">Image 1130 (65.25%)\n",
        ">> click - 644\n",
        "\n",
        ">> Girl - 486\n",
        ">Carousal - 603 ( 34.8%)\n",
        "\n",
        "**Device:**\n",
        ">Google Ads has device type but there is no appropriate data on Facebook Ads\n",
        "\n",
        ">Google Ads -\n",
        ">> Mobile : 7357 (48.72%)\n",
        "\n",
        ">> Desktop : 6318 (41.84%)\n",
        "\n",
        ">> Tablet : 1426 (9.44%)\n",
        "\n",
        "**Spend Time:**\n",
        ">The Maximum Time spended on the website is 9221.96 seconds (153)\n",
        "\n",
        ">76% of  people spended less than 2 mins and 25% never spent time\n",
        "\n",
        "**Link Clicks:**\n",
        ">In Google Ads there are no link clicks.\n",
        "> In Facebook Ads link clicks 635 visitors had lick clicks below 15 and  382 users below 5"
      ]
    }
  ]
}